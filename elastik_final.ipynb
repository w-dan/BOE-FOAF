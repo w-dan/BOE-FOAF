{
 "cells": [
  {
   "cell_type": "code",
   "execution_count": null,
   "metadata": {},
   "outputs": [],
   "source": [
    "!python3 -m pip install sentencepiece"
   ]
  },
  {
   "cell_type": "code",
   "execution_count": null,
   "metadata": {},
   "outputs": [],
   "source": [
    "import pprint\n",
    "import json\n",
    "from elasticsearch import Elasticsearch"
   ]
  },
  {
   "cell_type": "code",
   "execution_count": null,
   "metadata": {},
   "outputs": [],
   "source": [
    "URI = \"http://localhost:9200/\"\n",
    "INDEX_NAME = \"articulos_index\" # TODO : Cambiar y además, cambiar en lo demás también\n",
    "ARTICLE_URI = \"./articles/BOE-A-2023-22761.json\""
   ]
  },
  {
   "cell_type": "code",
   "execution_count": null,
   "metadata": {},
   "outputs": [],
   "source": [
    "client = Elasticsearch(URI, )"
   ]
  },
  {
   "cell_type": "code",
   "execution_count": null,
   "metadata": {},
   "outputs": [],
   "source": [
    "with open(ARTICLE_URI, 'r') as file:\n",
    "    # Use json.load to load the data from the file\n",
    "    article_data = json.load(file)\n",
    "\n",
    "print(article_data)\n",
    "client.index(\n",
    "    index=INDEX_NAME,\n",
    "    id=article_data[\"identificador\"],\n",
    "    document=article_data\n",
    ")"
   ]
  },
  {
   "cell_type": "markdown",
   "metadata": {},
   "source": [
    "# Acciones que realizar"
   ]
  },
  {
   "cell_type": "code",
   "execution_count": null,
   "metadata": {},
   "outputs": [],
   "source": [
    "client.get(index=INDEX_NAME, id=\"BOE-A-2023-22761\")"
   ]
  },
  {
   "cell_type": "code",
   "execution_count": null,
   "metadata": {},
   "outputs": [],
   "source": [
    "client.search(index=INDEX_NAME, query={\n",
    "    \"match\": {\n",
    "        \"origen_legislativo\": \"Estatal\"\n",
    "    }\n",
    "})"
   ]
  },
  {
   "cell_type": "code",
   "execution_count": null,
   "metadata": {},
   "outputs": [],
   "source": [
    "client.indices.delete(index=\"lexical-search\")"
   ]
  },
  {
   "cell_type": "code",
   "execution_count": null,
   "metadata": {},
   "outputs": [],
   "source": [
    "my_query = {\n",
    "    \"match_all\":{}\n",
    "}\n",
    "\n",
    "res = client.search(index=INDEX_NAME, query=my_query)\n",
    "pprint.pprint(res['hits'])"
   ]
  },
  {
   "cell_type": "code",
   "execution_count": null,
   "metadata": {},
   "outputs": [],
   "source": [
    "my_query = {\n",
    "    \"simple_query_string\":{\n",
    "        \"fields\": [\"articulos\"],\n",
    "        \"query\": \"CONSEJO DE ADMINISTRACIÓN\"\n",
    "    }\n",
    "}\n",
    "\n",
    "res = client.search(index=INDEX_NAME, query=my_query)\n",
    "pprint.pprint(res['hits'])"
   ]
  },
  {
   "cell_type": "code",
   "execution_count": null,
   "metadata": {},
   "outputs": [],
   "source": []
  }
 ],
 "metadata": {
  "kernelspec": {
   "display_name": ".venv",
   "language": "python",
   "name": "python3"
  },
  "language_info": {
   "codemirror_mode": {
    "name": "ipython",
    "version": 3
   },
   "file_extension": ".py",
   "mimetype": "text/x-python",
   "name": "python",
   "nbconvert_exporter": "python",
   "pygments_lexer": "ipython3",
   "version": "3.11.2"
  }
 },
 "nbformat": 4,
 "nbformat_minor": 2
}
